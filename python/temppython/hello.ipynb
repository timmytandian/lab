{
 "cells": [
  {
   "cell_type": "code",
   "execution_count": 2,
   "metadata": {},
   "outputs": [],
   "source": [
    "import scipy"
   ]
  },
  {
   "cell_type": "code",
   "execution_count": 3,
   "metadata": {},
   "outputs": [
    {
     "name": "stdout",
     "output_type": "stream",
     "text": [
      "Effect size: 1.0\n",
      "Sample size/Number needed in each group: 16.715\n"
     ]
    }
   ],
   "source": [
    "from math import sqrt\n",
    "from statsmodels.stats.power import TTestIndPower\n",
    "\n",
    "#calculation of effect size \n",
    "# size of samples in pilot study \n",
    "n1, n2 = 4, 4\n",
    "  \n",
    "# variance of samples in pilot study \n",
    "s1, s2 = 5**2, 5**2\n",
    "  \n",
    "# calculate the pooled standard deviation  \n",
    "# (Cohen's d) \n",
    "s = sqrt(((n1 - 1) * s1 + (n2 - 1) * s2) / (n1 + n2 - 2)) \n",
    "  \n",
    "# means of the samples \n",
    "u1, u2 = 90, 85\n",
    "  \n",
    "# calculate the effect size \n",
    "d = (u1 - u2) / s \n",
    "print(f'Effect size: {d}') \n",
    "  \n",
    "# factors for power analysis \n",
    "alpha = 0.05\n",
    "power = 0.8\n",
    "  \n",
    "# perform power analysis to find sample size  \n",
    "# for given effect \n",
    "obj = TTestIndPower() \n",
    "n = obj.solve_power(effect_size=d, alpha=alpha, power=power,  \n",
    "                    ratio=1, alternative='two-sided') \n",
    "  \n",
    "print('Sample size/Number needed in each group: {:.3f}'.format(n))"
   ]
  }
 ],
 "metadata": {
  "kernelspec": {
   "display_name": "Python 3",
   "language": "python",
   "name": "python3"
  },
  "language_info": {
   "codemirror_mode": {
    "name": "ipython",
    "version": 3
   },
   "file_extension": ".py",
   "mimetype": "text/x-python",
   "name": "python",
   "nbconvert_exporter": "python",
   "pygments_lexer": "ipython3",
   "version": "3.12.0"
  }
 },
 "nbformat": 4,
 "nbformat_minor": 2
}
